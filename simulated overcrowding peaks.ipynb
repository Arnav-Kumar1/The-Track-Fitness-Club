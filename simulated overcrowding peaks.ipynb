{
 "cells": [
  {
   "cell_type": "code",
   "execution_count": 36,
   "id": "080f82e2",
   "metadata": {},
   "outputs": [],
   "source": [
    "import pandas as pd\n",
    "from random import randint\n",
    "import random\n",
    "import matplotlib.pyplot as plt\n",
    "random.seed(0)"
   ]
  },
  {
   "cell_type": "code",
   "execution_count": 37,
   "id": "86986a4b",
   "metadata": {},
   "outputs": [],
   "source": [
    "df_pipo = pd.read_excel(\"PIPO.xlsx\")\n",
    "df_flexible_clients = pd.read_excel(\"Total flexible clients.xlsx\")"
   ]
  },
  {
   "cell_type": "code",
   "execution_count": 38,
   "id": "3669fba7",
   "metadata": {},
   "outputs": [
    {
     "data": {
      "text/html": [
       "<div>\n",
       "<style scoped>\n",
       "    .dataframe tbody tr th:only-of-type {\n",
       "        vertical-align: middle;\n",
       "    }\n",
       "\n",
       "    .dataframe tbody tr th {\n",
       "        vertical-align: top;\n",
       "    }\n",
       "\n",
       "    .dataframe thead th {\n",
       "        text-align: right;\n",
       "    }\n",
       "</style>\n",
       "<table border=\"1\" class=\"dataframe\">\n",
       "  <thead>\n",
       "    <tr style=\"text-align: right;\">\n",
       "      <th></th>\n",
       "      <th>#Rno</th>\n",
       "      <th>In Time</th>\n",
       "      <th>Out Time</th>\n",
       "      <th>Hour</th>\n",
       "      <th>Day</th>\n",
       "      <th>Month</th>\n",
       "      <th>Unnamed: 6</th>\n",
       "      <th>Unnamed: 7</th>\n",
       "      <th>Unnamed: 8</th>\n",
       "      <th>Unnamed: 9</th>\n",
       "      <th>Unnamed: 10</th>\n",
       "    </tr>\n",
       "  </thead>\n",
       "  <tbody>\n",
       "    <tr>\n",
       "      <th>0</th>\n",
       "      <td>943</td>\n",
       "      <td>2022-01-01 16:19:36</td>\n",
       "      <td>2022-01-01 17:39:12</td>\n",
       "      <td>16</td>\n",
       "      <td>Saturday</td>\n",
       "      <td>1</td>\n",
       "      <td>NaN</td>\n",
       "      <td>NaN</td>\n",
       "      <td>NaN</td>\n",
       "      <td>NaN</td>\n",
       "      <td>NaN</td>\n",
       "    </tr>\n",
       "    <tr>\n",
       "      <th>1</th>\n",
       "      <td>943</td>\n",
       "      <td>2022-01-03 17:23:00</td>\n",
       "      <td>2022-01-03 18:46:00</td>\n",
       "      <td>17</td>\n",
       "      <td>Monday</td>\n",
       "      <td>1</td>\n",
       "      <td>NaN</td>\n",
       "      <td>NaN</td>\n",
       "      <td>NaN</td>\n",
       "      <td>NaN</td>\n",
       "      <td>NaN</td>\n",
       "    </tr>\n",
       "    <tr>\n",
       "      <th>2</th>\n",
       "      <td>943</td>\n",
       "      <td>2022-01-06 17:55:16</td>\n",
       "      <td>2022-01-06 19:50:32</td>\n",
       "      <td>17</td>\n",
       "      <td>Thursday</td>\n",
       "      <td>1</td>\n",
       "      <td>NaN</td>\n",
       "      <td>NaN</td>\n",
       "      <td>NaN</td>\n",
       "      <td>NaN</td>\n",
       "      <td>NaN</td>\n",
       "    </tr>\n",
       "    <tr>\n",
       "      <th>3</th>\n",
       "      <td>943</td>\n",
       "      <td>2022-01-07 18:57:24</td>\n",
       "      <td>2022-01-07 21:54:48</td>\n",
       "      <td>18</td>\n",
       "      <td>Friday</td>\n",
       "      <td>1</td>\n",
       "      <td>NaN</td>\n",
       "      <td>NaN</td>\n",
       "      <td>NaN</td>\n",
       "      <td>NaN</td>\n",
       "      <td>NaN</td>\n",
       "    </tr>\n",
       "    <tr>\n",
       "      <th>4</th>\n",
       "      <td>943</td>\n",
       "      <td>2022-01-08 18:57:55</td>\n",
       "      <td>2022-01-08 20:55:50</td>\n",
       "      <td>18</td>\n",
       "      <td>Saturday</td>\n",
       "      <td>1</td>\n",
       "      <td>NaN</td>\n",
       "      <td>NaN</td>\n",
       "      <td>NaN</td>\n",
       "      <td>Row Labels</td>\n",
       "      <td>Count of Hour</td>\n",
       "    </tr>\n",
       "  </tbody>\n",
       "</table>\n",
       "</div>"
      ],
      "text/plain": [
       "   #Rno             In Time            Out Time  Hour       Day  Month  \\\n",
       "0   943 2022-01-01 16:19:36 2022-01-01 17:39:12    16  Saturday      1   \n",
       "1   943 2022-01-03 17:23:00 2022-01-03 18:46:00    17    Monday      1   \n",
       "2   943 2022-01-06 17:55:16 2022-01-06 19:50:32    17  Thursday      1   \n",
       "3   943 2022-01-07 18:57:24 2022-01-07 21:54:48    18    Friday      1   \n",
       "4   943 2022-01-08 18:57:55 2022-01-08 20:55:50    18  Saturday      1   \n",
       "\n",
       "   Unnamed: 6  Unnamed: 7  Unnamed: 8  Unnamed: 9    Unnamed: 10  \n",
       "0         NaN         NaN         NaN         NaN            NaN  \n",
       "1         NaN         NaN         NaN         NaN            NaN  \n",
       "2         NaN         NaN         NaN         NaN            NaN  \n",
       "3         NaN         NaN         NaN         NaN            NaN  \n",
       "4         NaN         NaN         NaN  Row Labels  Count of Hour  "
      ]
     },
     "execution_count": 38,
     "metadata": {},
     "output_type": "execute_result"
    }
   ],
   "source": [
    "df_pipo.head()"
   ]
  },
  {
   "cell_type": "code",
   "execution_count": 39,
   "id": "fc2ee179",
   "metadata": {},
   "outputs": [
    {
     "data": {
      "text/html": [
       "<div>\n",
       "<style scoped>\n",
       "    .dataframe tbody tr th:only-of-type {\n",
       "        vertical-align: middle;\n",
       "    }\n",
       "\n",
       "    .dataframe tbody tr th {\n",
       "        vertical-align: top;\n",
       "    }\n",
       "\n",
       "    .dataframe thead th {\n",
       "        text-align: right;\n",
       "    }\n",
       "</style>\n",
       "<table border=\"1\" class=\"dataframe\">\n",
       "  <thead>\n",
       "    <tr style=\"text-align: right;\">\n",
       "      <th></th>\n",
       "      <th>#Rno</th>\n",
       "    </tr>\n",
       "  </thead>\n",
       "  <tbody>\n",
       "    <tr>\n",
       "      <th>90</th>\n",
       "      <td>1704</td>\n",
       "    </tr>\n",
       "    <tr>\n",
       "      <th>91</th>\n",
       "      <td>1714</td>\n",
       "    </tr>\n",
       "    <tr>\n",
       "      <th>92</th>\n",
       "      <td>1414</td>\n",
       "    </tr>\n",
       "    <tr>\n",
       "      <th>93</th>\n",
       "      <td>1808</td>\n",
       "    </tr>\n",
       "    <tr>\n",
       "      <th>94</th>\n",
       "      <td>869</td>\n",
       "    </tr>\n",
       "  </tbody>\n",
       "</table>\n",
       "</div>"
      ],
      "text/plain": [
       "    #Rno\n",
       "90  1704\n",
       "91  1714\n",
       "92  1414\n",
       "93  1808\n",
       "94   869"
      ]
     },
     "execution_count": 39,
     "metadata": {},
     "output_type": "execute_result"
    }
   ],
   "source": [
    "df_flexible_clients.tail()"
   ]
  },
  {
   "cell_type": "code",
   "execution_count": 40,
   "id": "8bd0b0df",
   "metadata": {},
   "outputs": [
    {
     "name": "stdout",
     "output_type": "stream",
     "text": [
      "[953, 1044, 1049, 1052, 1053, 1057, 983, 1073, 1076, 1081, 1090, 989, 1094, 1101, 1102, 971, 1107, 1109, 1120, 1121, 1124, 768, 860, 944, 1160, 1164, 863, 772, 774, 876, 986, 868, 1225, 1229, 1233, 993, 1008, 786, 789, 793, 1246, 1328, 794, 1358, 1265, 1082, 1383, 798, 922, 1391, 854, 803, 804, 1333, 1334, 805, 806, 1272, 1371, 1378, 919, 811, 813, 1376, 879, 880, 1248, 886, 1418, 1495, 1529, 851, 881, 823, 824, 1405, 1629, 1493, 1633, 1648, 1115, 1503, 1657, 833, 1685, 1707, 1731, 1738, 1565, 1581, 1704, 1714, 1414, 1808, 869]\n"
     ]
    }
   ],
   "source": [
    "flexi_list = []\n",
    "for i in df_flexible_clients[\"#Rno\"]:\n",
    "    flexi_list.append(i)\n",
    "print(flexi_list)"
   ]
  },
  {
   "cell_type": "code",
   "execution_count": 41,
   "id": "c425f57e",
   "metadata": {},
   "outputs": [],
   "source": [
    "noon_and_evening_slot = [11,12,13,14,15,16,17]  # time in 24 hour format"
   ]
  },
  {
   "cell_type": "code",
   "execution_count": 42,
   "id": "93cd10cf",
   "metadata": {},
   "outputs": [
    {
     "name": "stderr",
     "output_type": "stream",
     "text": [
      "C:\\Users\\arnav\\AppData\\Local\\Temp\\ipykernel_12228\\318784445.py:4: SettingWithCopyWarning: \n",
      "A value is trying to be set on a copy of a slice from a DataFrame\n",
      "\n",
      "See the caveats in the documentation: https://pandas.pydata.org/pandas-docs/stable/user_guide/indexing.html#returning-a-view-versus-a-copy\n",
      "  df_pipo[\"Hour\"][i] = noon_and_evening_slot[randint(0,len(noon_and_evening_slot)-1)]  # assume the client accepts the discount offer and starts to visit the evening slot in evening slot\n"
     ]
    }
   ],
   "source": [
    "for i in range(len(df_pipo)):\n",
    "    if df_pipo[\"#Rno\"][i] in flexi_list:# if the client is non-eve client\n",
    "        if df_pipo[\"Hour\"][i] not in noon_and_evening_slot: # if the noon evening client is not in his supposed slot\n",
    "            df_pipo[\"Hour\"][i] = noon_and_evening_slot[randint(0,len(noon_and_evening_slot)-1)]  # assume the client accepts the discount offer and starts to visit the evening slot in evening slot "
   ]
  },
  {
   "cell_type": "code",
   "execution_count": 43,
   "id": "49aed066",
   "metadata": {},
   "outputs": [],
   "source": [
    "df_pipo.to_excel(\"simulated new pipo1.xlsx\", index = False)"
   ]
  },
  {
   "cell_type": "code",
   "execution_count": null,
   "id": "26ae60fd",
   "metadata": {},
   "outputs": [],
   "source": []
  }
 ],
 "metadata": {
  "kernelspec": {
   "display_name": "Python 3",
   "language": "python",
   "name": "python3"
  },
  "language_info": {
   "codemirror_mode": {
    "name": "ipython",
    "version": 3
   },
   "file_extension": ".py",
   "mimetype": "text/x-python",
   "name": "python",
   "nbconvert_exporter": "python",
   "pygments_lexer": "ipython3",
   "version": "3.10.5"
  }
 },
 "nbformat": 4,
 "nbformat_minor": 5
}

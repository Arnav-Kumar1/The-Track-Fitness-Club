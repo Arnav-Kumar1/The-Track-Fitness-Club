{
 "cells": [
  {
   "cell_type": "code",
   "execution_count": 44,
   "id": "95069215",
   "metadata": {},
   "outputs": [],
   "source": [
    "import numpy as np\n",
    "import pandas as pd\n",
    "from random import randint\n",
    "from statistics import mode\n",
    "import random\n",
    "random.seed(0)"
   ]
  },
  {
   "cell_type": "code",
   "execution_count": 45,
   "id": "39a1afca",
   "metadata": {},
   "outputs": [],
   "source": [
    "df_pipo = pd.read_excel(\"C:/Users/arnav/Downloads/The-Track-Fitness-Club-master/The-Track-Fitness-Club-master/Clean Data/PIPO.xlsx\")"
   ]
  },
  {
   "cell_type": "code",
   "execution_count": 46,
   "id": "66a994c8",
   "metadata": {},
   "outputs": [],
   "source": [
    "df_invoice = pd.read_excel(\"C:/Users/arnav/Downloads/The-Track-Fitness-Club-master/The-Track-Fitness-Club-master/Clean Data/invoice data.xlsx\")"
   ]
  },
  {
   "cell_type": "code",
   "execution_count": 47,
   "id": "59f10500",
   "metadata": {},
   "outputs": [
    {
     "data": {
      "text/html": [
       "<div>\n",
       "<style scoped>\n",
       "    .dataframe tbody tr th:only-of-type {\n",
       "        vertical-align: middle;\n",
       "    }\n",
       "\n",
       "    .dataframe tbody tr th {\n",
       "        vertical-align: top;\n",
       "    }\n",
       "\n",
       "    .dataframe thead th {\n",
       "        text-align: right;\n",
       "    }\n",
       "</style>\n",
       "<table border=\"1\" class=\"dataframe\">\n",
       "  <thead>\n",
       "    <tr style=\"text-align: right;\">\n",
       "      <th></th>\n",
       "      <th>#Rno</th>\n",
       "      <th>In Time</th>\n",
       "      <th>Out Time</th>\n",
       "      <th>Hour</th>\n",
       "      <th>Day</th>\n",
       "      <th>Month</th>\n",
       "      <th>Year</th>\n",
       "      <th>Unnamed: 7</th>\n",
       "      <th>Unnamed: 8</th>\n",
       "      <th>Unnamed: 9</th>\n",
       "      <th>Unnamed: 10</th>\n",
       "    </tr>\n",
       "  </thead>\n",
       "  <tbody>\n",
       "    <tr>\n",
       "      <th>0</th>\n",
       "      <td>943</td>\n",
       "      <td>2022-01-01 16:19:36</td>\n",
       "      <td>2022-01-01 17:39:12</td>\n",
       "      <td>16</td>\n",
       "      <td>Saturday</td>\n",
       "      <td>1</td>\n",
       "      <td>2022</td>\n",
       "      <td>NaN</td>\n",
       "      <td>NaN</td>\n",
       "      <td>NaN</td>\n",
       "      <td>NaN</td>\n",
       "    </tr>\n",
       "    <tr>\n",
       "      <th>1</th>\n",
       "      <td>943</td>\n",
       "      <td>2022-01-03 17:23:00</td>\n",
       "      <td>2022-01-03 18:46:00</td>\n",
       "      <td>17</td>\n",
       "      <td>Monday</td>\n",
       "      <td>1</td>\n",
       "      <td>2022</td>\n",
       "      <td>NaN</td>\n",
       "      <td>NaN</td>\n",
       "      <td>NaN</td>\n",
       "      <td>NaN</td>\n",
       "    </tr>\n",
       "  </tbody>\n",
       "</table>\n",
       "</div>"
      ],
      "text/plain": [
       "   #Rno             In Time            Out Time  Hour       Day  Month  Year  \\\n",
       "0   943 2022-01-01 16:19:36 2022-01-01 17:39:12    16  Saturday      1  2022   \n",
       "1   943 2022-01-03 17:23:00 2022-01-03 18:46:00    17    Monday      1  2022   \n",
       "\n",
       "   Unnamed: 7  Unnamed: 8 Unnamed: 9 Unnamed: 10  \n",
       "0         NaN         NaN        NaN         NaN  \n",
       "1         NaN         NaN        NaN         NaN  "
      ]
     },
     "execution_count": 47,
     "metadata": {},
     "output_type": "execute_result"
    }
   ],
   "source": [
    "df_pipo.head(2)"
   ]
  },
  {
   "cell_type": "code",
   "execution_count": 48,
   "id": "a8796cb6",
   "metadata": {},
   "outputs": [
    {
     "data": {
      "text/html": [
       "<div>\n",
       "<style scoped>\n",
       "    .dataframe tbody tr th:only-of-type {\n",
       "        vertical-align: middle;\n",
       "    }\n",
       "\n",
       "    .dataframe tbody tr th {\n",
       "        vertical-align: top;\n",
       "    }\n",
       "\n",
       "    .dataframe thead th {\n",
       "        text-align: right;\n",
       "    }\n",
       "</style>\n",
       "<table border=\"1\" class=\"dataframe\">\n",
       "  <thead>\n",
       "    <tr style=\"text-align: right;\">\n",
       "      <th></th>\n",
       "      <th>Sr.no</th>\n",
       "      <th>#Rno</th>\n",
       "      <th>PaymentDate</th>\n",
       "      <th>package</th>\n",
       "      <th>validity</th>\n",
       "      <th>subscription</th>\n",
       "      <th>first_month</th>\n",
       "      <th>Month</th>\n",
       "      <th>Discount</th>\n",
       "      <th>Paid Amount</th>\n",
       "      <th>Package Text</th>\n",
       "      <th>Duration/Sessions</th>\n",
       "      <th>Revenue</th>\n",
       "      <th>#Rno.1</th>\n",
       "      <th>subscription.1</th>\n",
       "    </tr>\n",
       "  </thead>\n",
       "  <tbody>\n",
       "    <tr>\n",
       "      <th>0</th>\n",
       "      <td>1</td>\n",
       "      <td>943</td>\n",
       "      <td>2022-01-01</td>\n",
       "      <td>3</td>\n",
       "      <td>2022-04-01</td>\n",
       "      <td>Expire</td>\n",
       "      <td>1</td>\n",
       "      <td>1</td>\n",
       "      <td>0</td>\n",
       "      <td>2700</td>\n",
       "      <td>3 month.</td>\n",
       "      <td>90/90</td>\n",
       "      <td>2700</td>\n",
       "      <td>943</td>\n",
       "      <td>Expire</td>\n",
       "    </tr>\n",
       "    <tr>\n",
       "      <th>1</th>\n",
       "      <td>2</td>\n",
       "      <td>953</td>\n",
       "      <td>2022-01-01</td>\n",
       "      <td>1</td>\n",
       "      <td>2022-01-31</td>\n",
       "      <td>Expire</td>\n",
       "      <td>2021</td>\n",
       "      <td>1</td>\n",
       "      <td>0</td>\n",
       "      <td>1000</td>\n",
       "      <td>1 month.</td>\n",
       "      <td>30/30</td>\n",
       "      <td>1000</td>\n",
       "      <td>953</td>\n",
       "      <td>Expire</td>\n",
       "    </tr>\n",
       "  </tbody>\n",
       "</table>\n",
       "</div>"
      ],
      "text/plain": [
       "   Sr.no  #Rno PaymentDate  package   validity subscription  first_month  \\\n",
       "0      1   943  2022-01-01        3 2022-04-01       Expire            1   \n",
       "1      2   953  2022-01-01        1 2022-01-31       Expire         2021   \n",
       "\n",
       "   Month  Discount  Paid Amount Package Text Duration/Sessions  Revenue  \\\n",
       "0      1         0         2700     3 month.             90/90     2700   \n",
       "1      1         0         1000     1 month.             30/30     1000   \n",
       "\n",
       "   #Rno.1 subscription.1  \n",
       "0     943         Expire  \n",
       "1     953         Expire  "
      ]
     },
     "execution_count": 48,
     "metadata": {},
     "output_type": "execute_result"
    }
   ],
   "source": [
    "df_invoice.head(2)"
   ]
  },
  {
   "cell_type": "code",
   "execution_count": 49,
   "id": "25ee1bac",
   "metadata": {},
   "outputs": [
    {
     "data": {
      "text/plain": [
       "'Expire'"
      ]
     },
     "execution_count": 49,
     "metadata": {},
     "output_type": "execute_result"
    }
   ],
   "source": [
    "df_invoice[\"subscription.1\"][0]"
   ]
  },
  {
   "cell_type": "code",
   "execution_count": 50,
   "id": "fe03e491",
   "metadata": {},
   "outputs": [
    {
     "name": "stdout",
     "output_type": "stream",
     "text": [
      "Total number of Unique Clients in the Data is : 494\n",
      "Registeration numbers of clients: [943, 953, 1018, 1019, 1020] ...\n"
     ]
    }
   ],
   "source": [
    "# make a list of unique clients\n",
    "client_unique = []  # [1018,1019,1020,1021,1023,1024,...] 870 unique clients\n",
    "for i in range(len(df_invoice)):\n",
    "    if df_invoice[\"#Rno\"][i] not in client_unique:\n",
    "        client_unique.append(df_invoice[\"#Rno\"][i])\n",
    "\n",
    "print(\"Total number of Unique Clients in the Data is :\", len(client_unique))\n",
    "print(\"Registeration numbers of clients:\",client_unique[0:5],\"...\")"
   ]
  },
  {
   "cell_type": "code",
   "execution_count": 51,
   "id": "d38cba36",
   "metadata": {},
   "outputs": [
    {
     "data": {
      "text/plain": [
       "[943, 953, 1018, 1019, 1020, 1021, 1024, 1025, 1026, 1027]"
      ]
     },
     "execution_count": 51,
     "metadata": {},
     "output_type": "execute_result"
    }
   ],
   "source": [
    "# view the first 10 unique clients\n",
    "\n",
    "client_unique[0:10]"
   ]
  },
  {
   "cell_type": "code",
   "execution_count": 52,
   "id": "309c4b39",
   "metadata": {},
   "outputs": [],
   "source": [
    "# EDeclare the gym slot variables to store the dedicated hours for each slot\n",
    "\n",
    "mor_slot = [6,7,8,9,10]\n",
    "noon_slot = [11,12,13,14,15]\n",
    "eve_slot = [16,17]\n",
    "late_eve_slot = [18,19,20,21]"
   ]
  },
  {
   "cell_type": "markdown",
   "id": "1d8071c5",
   "metadata": {},
   "source": [
    "# STEPS to find noon and evening clients who are active and flexible:\n",
    "### a. client : [list of all the slots he ever visited for workouts ] --> dict {client slot dict}        \n",
    "### b. client : preferred slot --> dict  {client preferred slot dict}\n",
    "### c. client : %deviation from preferred slot -- >dict    {client slot jump value dict}\n",
    "### d. flexible client : preferred slot of thee flexible clients --> dict    \n",
    "### e. active fleexible client : preferred slot of these active flexible clients -- > dict"
   ]
  },
  {
   "cell_type": "markdown",
   "id": "3410ce90",
   "metadata": {},
   "source": [
    "## A"
   ]
  },
  {
   "cell_type": "code",
   "execution_count": 53,
   "id": "1ec9cdf7",
   "metadata": {},
   "outputs": [],
   "source": [
    "clients_slot_dict = {}  \n",
    "# key will be Rno and value will be a list consisting of all workout hours of the client, then the workout hour will be converted\n",
    "# into timing slots and then the slot which appears maximum will label the client in that slot"
   ]
  },
  {
   "cell_type": "code",
   "execution_count": 54,
   "id": "0daec464",
   "metadata": {},
   "outputs": [],
   "source": [
    "for c in client_unique:\n",
    "    client_hour_list = [] # refresh the list back to null every time the client is changed\n",
    "    for i in range(len(df_pipo)-1):\n",
    "        if df_pipo[\"#Rno\"][i] == c:\n",
    "            if df_pipo[\"Hour\"][i] in mor_slot:\n",
    "                client_hour_list.append(\"morning slot\")\n",
    "            elif df_pipo[\"Hour\"][i] in noon_slot:\n",
    "                client_hour_list.append(\"noon slot\")\n",
    "            elif df_pipo[\"Hour\"][i] in eve_slot:\n",
    "                client_hour_list.append(\"evening slot\")\n",
    "            elif df_pipo[\"Hour\"][i] in late_eve_slot:\n",
    "                client_hour_list.append(\"late evening slot\")\n",
    "                \n",
    "    clients_slot_dict[c] = client_hour_list"
   ]
  },
  {
   "cell_type": "code",
   "execution_count": 55,
   "id": "3749ddbe",
   "metadata": {},
   "outputs": [
    {
     "name": "stdout",
     "output_type": "stream",
     "text": [
      "The initial five clients from the dataset, along with all their daywise workout time slots\n",
      "\n",
      "Client 943 preferred ['evening slot', 'evening slot', 'evening slot', 'late evening slot', 'late evening slot', 'evening slot', 'morning slot', 'late evening slot', 'morning slot', 'evening slot', 'evening slot', 'evening slot', 'evening slot', 'evening slot', 'evening slot', 'evening slot', 'evening slot', 'evening slot', 'morning slot', 'evening slot', 'evening slot', 'evening slot', 'evening slot', 'evening slot', 'morning slot', 'evening slot', 'evening slot', 'evening slot', 'evening slot', 'evening slot', 'evening slot', 'evening slot', 'evening slot', 'evening slot', 'evening slot', 'evening slot', 'evening slot', 'evening slot', 'evening slot', 'evening slot', 'evening slot', 'evening slot', 'evening slot', 'evening slot', 'evening slot', 'evening slot', 'evening slot', 'evening slot', 'morning slot', 'evening slot', 'late evening slot', 'evening slot', 'late evening slot', 'evening slot', 'evening slot', 'evening slot', 'morning slot', 'evening slot', 'late evening slot', 'evening slot', 'evening slot', 'morning slot', 'evening slot', 'evening slot', 'evening slot', 'evening slot', 'evening slot', 'evening slot', 'evening slot', 'evening slot', 'morning slot', 'evening slot', 'evening slot', 'morning slot', 'evening slot', 'evening slot', 'evening slot', 'evening slot', 'morning slot', 'evening slot', 'late evening slot', 'evening slot', 'evening slot', 'evening slot', 'evening slot', 'evening slot', 'late evening slot', 'evening slot', 'morning slot', 'evening slot', 'evening slot', 'morning slot', 'evening slot', 'evening slot', 'evening slot', 'evening slot', 'evening slot', 'evening slot', 'evening slot', 'evening slot', 'evening slot', 'evening slot', 'evening slot', 'evening slot', 'evening slot', 'morning slot']\n",
      "Client 953 preferred ['late evening slot', 'noon slot', 'morning slot', 'noon slot', 'noon slot', 'noon slot', 'late evening slot', 'noon slot', 'noon slot', 'noon slot', 'noon slot', 'late evening slot', 'noon slot', 'noon slot', 'noon slot', 'noon slot', 'late evening slot', 'noon slot', 'noon slot', 'noon slot', 'late evening slot', 'late evening slot', 'noon slot', 'noon slot', 'noon slot', 'evening slot', 'late evening slot', 'morning slot', 'morning slot', 'noon slot', 'noon slot', 'noon slot', 'noon slot', 'late evening slot', 'noon slot', 'noon slot', 'noon slot', 'noon slot', 'noon slot', 'evening slot', 'noon slot', 'late evening slot', 'noon slot', 'noon slot', 'noon slot', 'noon slot', 'evening slot', 'noon slot', 'evening slot']\n",
      "Client 1018 preferred ['late evening slot', 'late evening slot', 'late evening slot', 'late evening slot', 'late evening slot', 'late evening slot', 'late evening slot', 'late evening slot', 'late evening slot', 'late evening slot', 'late evening slot', 'late evening slot', 'late evening slot', 'late evening slot', 'late evening slot', 'late evening slot', 'late evening slot', 'late evening slot', 'late evening slot', 'late evening slot', 'late evening slot', 'late evening slot', 'late evening slot', 'late evening slot', 'late evening slot', 'late evening slot', 'late evening slot', 'late evening slot']\n",
      "Client 1019 preferred ['morning slot', 'morning slot', 'late evening slot', 'morning slot', 'morning slot', 'morning slot', 'morning slot', 'morning slot', 'morning slot', 'morning slot', 'late evening slot', 'morning slot', 'late evening slot', 'morning slot', 'morning slot', 'morning slot', 'morning slot', 'morning slot', 'morning slot', 'morning slot', 'morning slot', 'morning slot', 'morning slot', 'morning slot', 'morning slot', 'morning slot', 'morning slot', 'morning slot', 'morning slot', 'morning slot', 'late evening slot', 'morning slot', 'morning slot', 'morning slot', 'morning slot', 'morning slot', 'morning slot', 'morning slot', 'morning slot', 'morning slot', 'morning slot', 'morning slot', 'morning slot', 'morning slot', 'morning slot', 'morning slot', 'morning slot', 'morning slot', 'morning slot', 'late evening slot', 'late evening slot', 'morning slot', 'morning slot', 'morning slot', 'morning slot', 'morning slot', 'late evening slot', 'morning slot', 'morning slot', 'morning slot', 'morning slot', 'morning slot', 'morning slot', 'morning slot', 'late evening slot', 'morning slot', 'morning slot', 'morning slot', 'morning slot', 'morning slot', 'morning slot', 'morning slot', 'morning slot', 'morning slot', 'morning slot', 'morning slot', 'morning slot', 'late evening slot', 'morning slot', 'morning slot', 'morning slot', 'morning slot', 'morning slot', 'morning slot', 'late evening slot', 'morning slot', 'morning slot', 'morning slot', 'morning slot', 'morning slot', 'morning slot', 'morning slot', 'morning slot', 'morning slot', 'morning slot', 'morning slot', 'morning slot', 'morning slot', 'morning slot', 'morning slot', 'morning slot', 'morning slot', 'late evening slot', 'morning slot', 'late evening slot', 'morning slot', 'morning slot', 'morning slot', 'morning slot', 'morning slot', 'morning slot', 'morning slot', 'morning slot', 'morning slot', 'morning slot', 'morning slot', 'morning slot', 'morning slot', 'morning slot', 'morning slot', 'morning slot', 'morning slot', 'morning slot', 'late evening slot', 'morning slot', 'morning slot', 'morning slot', 'morning slot', 'morning slot', 'morning slot', 'morning slot', 'morning slot', 'morning slot', 'late evening slot', 'morning slot', 'morning slot', 'morning slot', 'morning slot', 'morning slot', 'morning slot', 'morning slot', 'morning slot', 'morning slot', 'morning slot', 'morning slot', 'morning slot', 'morning slot', 'morning slot', 'morning slot', 'morning slot', 'morning slot', 'morning slot', 'morning slot', 'morning slot', 'morning slot', 'morning slot', 'morning slot', 'morning slot', 'late evening slot', 'morning slot', 'morning slot', 'morning slot', 'late evening slot', 'morning slot', 'morning slot', 'morning slot', 'morning slot', 'morning slot', 'morning slot', 'morning slot', 'morning slot', 'morning slot', 'morning slot', 'morning slot', 'morning slot', 'late evening slot', 'morning slot', 'morning slot', 'morning slot', 'morning slot', 'morning slot', 'morning slot']\n",
      "Client 1020 preferred ['morning slot', 'morning slot', 'morning slot', 'morning slot', 'morning slot', 'morning slot', 'morning slot', 'morning slot', 'morning slot', 'morning slot', 'late evening slot', 'morning slot', 'morning slot', 'morning slot', 'morning slot', 'morning slot', 'morning slot', 'morning slot', 'morning slot', 'morning slot', 'morning slot', 'morning slot', 'morning slot', 'morning slot', 'morning slot', 'late evening slot', 'morning slot', 'morning slot', 'morning slot', 'morning slot', 'morning slot', 'morning slot', 'morning slot', 'morning slot', 'morning slot', 'morning slot', 'morning slot', 'morning slot', 'morning slot', 'morning slot', 'morning slot', 'morning slot', 'morning slot', 'morning slot', 'late evening slot', 'morning slot', 'late evening slot', 'morning slot', 'morning slot', 'morning slot', 'morning slot', 'morning slot', 'morning slot', 'morning slot', 'morning slot', 'morning slot', 'morning slot', 'morning slot', 'morning slot', 'morning slot', 'morning slot', 'morning slot', 'morning slot', 'morning slot', 'morning slot', 'morning slot', 'morning slot', 'morning slot', 'morning slot', 'morning slot', 'morning slot', 'morning slot', 'morning slot', 'morning slot', 'morning slot', 'morning slot', 'morning slot', 'morning slot', 'morning slot', 'morning slot', 'morning slot', 'morning slot', 'morning slot', 'late evening slot', 'morning slot', 'morning slot', 'morning slot', 'morning slot', 'morning slot', 'morning slot', 'morning slot']\n"
     ]
    }
   ],
   "source": [
    "# print daywise preferred workout slots of the first 10 clients\n",
    "print(\"The initial five clients from the dataset, along with all their daywise workout time slots\\n\")\n",
    "for client, preferred_slot in list(clients_slot_dict.items())[:5]:\n",
    "    print(f'Client {client} preferred {preferred_slot}')\n",
    "\n"
   ]
  },
  {
   "cell_type": "markdown",
   "id": "ba299739",
   "metadata": {},
   "source": [
    "## B. Find the most \"preferred\" slot of the all the unique clients in the history of 8 months, most preferred slot is the slot where a client belongs to "
   ]
  },
  {
   "cell_type": "code",
   "execution_count": 56,
   "id": "8042207d",
   "metadata": {},
   "outputs": [],
   "source": [
    "clients_preferred_slot_dict = {} # keys will be Rno and values will be %of the preferred slot or %of most occuring slot"
   ]
  },
  {
   "cell_type": "code",
   "execution_count": 57,
   "id": "61159289",
   "metadata": {},
   "outputs": [],
   "source": [
    "for k,v in clients_slot_dict.items():  # k is Rno and v is a list consisting of all hours this client workedout in the history of his duration\n",
    "    clients_preferred_slot_dict[k] = mode(v)  # mode(list) = returns the most occuring value in the list"
   ]
  },
  {
   "cell_type": "code",
   "execution_count": 58,
   "id": "51ae0da1",
   "metadata": {},
   "outputs": [
    {
     "name": "stdout",
     "output_type": "stream",
     "text": [
      "The initial five clients from the dataset, along with their preferred workout time slots\n",
      "\n",
      "Client 943 mostly prefers evening slot\n",
      "Client 953 mostly prefers noon slot\n",
      "Client 1018 mostly prefers late evening slot\n",
      "Client 1019 mostly prefers morning slot\n",
      "Client 1020 mostly prefers morning slot\n"
     ]
    }
   ],
   "source": [
    "print(\"The initial five clients from the dataset, along with their preferred workout time slots\\n\")\n",
    "for client, most_preferred_slot in list(clients_preferred_slot_dict.items())[:5]:\n",
    "    print(f\"Client {client} mostly prefers {most_preferred_slot}\")\n",
    "\n"
   ]
  },
  {
   "cell_type": "markdown",
   "id": "c38d3f1c",
   "metadata": {},
   "source": [
    "## C \n",
    "## now we have clients and their preferred slot we can find how many times a client deviates from its preferred slot"
   ]
  },
  {
   "cell_type": "code",
   "execution_count": 59,
   "id": "70bc5638",
   "metadata": {},
   "outputs": [],
   "source": [
    "client_slot_jump_value_dict = {}  #len = 494\n",
    "for unique_client in client_unique:\n",
    "    jump = 0  # reset jump everytime a new client appears\n",
    "    workout_count = 0 # reset workout count everytime a new client appears\n",
    "    for i in range(len(df_pipo)-1):\n",
    "        if df_pipo[\"#Rno\"][i] == unique_client:\n",
    "            workout_count += 1          \n",
    "            \n",
    "            preferred_client_slot_is = clients_preferred_slot_dict[unique_client]  # know the clients preferred slot\n",
    "            \n",
    "            if preferred_client_slot_is == \"morning slot\":\n",
    "                preferred_client_slot_is = mor_slot  # mor_slot = [6,7,8,9,10]\n",
    "                \n",
    "                if df_pipo[\"Hour\"][i] not in preferred_client_slot_is:         \n",
    "                        jump += 1\n",
    "            \n",
    "            elif preferred_client_slot_is == \"noon slot\":\n",
    "                preferred_client_slot_is = noon_slot\n",
    "                \n",
    "                if df_pipo[\"Hour\"][i] not in preferred_client_slot_is:         \n",
    "                        jump += 1\n",
    "            \n",
    "            elif preferred_client_slot_is == \"evening slot\":\n",
    "                preferred_client_slot_is = eve_slot\n",
    "                \n",
    "                if df_pipo[\"Hour\"][i] not in preferred_client_slot_is:         \n",
    "                        jump += 1\n",
    "            elif preferred_client_slot_is == \"late evening slot\":\n",
    "                preferred_client_slot_is = late_eve_slot\n",
    "                \n",
    "                if df_pipo[\"Hour\"][i] not in preferred_client_slot_is:         \n",
    "                        jump += 1\n",
    "    \n",
    "    client_slot_jump_value_dict[unique_client] = round((jump/workout_count)*100,2)\n",
    "    \n",
    "          "
   ]
  },
  {
   "cell_type": "code",
   "execution_count": 60,
   "id": "17729c0f",
   "metadata": {},
   "outputs": [
    {
     "name": "stdout",
     "output_type": "stream",
     "text": [
      "494\n"
     ]
    }
   ],
   "source": [
    "print(len(client_slot_jump_value_dict))"
   ]
  },
  {
   "cell_type": "code",
   "execution_count": 61,
   "id": "ab143080",
   "metadata": {},
   "outputs": [
    {
     "name": "stdout",
     "output_type": "stream",
     "text": [
      "The initial five clients from the dataset, along with their deviation from their most preferred time slots\n",
      "\n",
      "Client 943 deviated from their most preferred workout slot 19.81% of times\n",
      "Client 953 deviated from their most preferred workout slot 32.65% of times\n",
      "Client 1018 deviated from their most preferred workout slot 0.0% of times\n",
      "Client 1019 deviated from their most preferred workout slot 9.34% of times\n",
      "Client 1020 deviated from their most preferred workout slot 5.49% of times\n"
     ]
    }
   ],
   "source": [
    "print(\"The initial five clients from the dataset, along with their deviation from their most preferred time slots\\n\")\n",
    "\n",
    "for i, (client, deviation) in enumerate(client_slot_jump_value_dict.items()):\n",
    "    print(f\"Client {client} deviated from their most preferred workout slot {deviation}% of times\")\n",
    "    if i == 4:\n",
    "        break\n"
   ]
  },
  {
   "cell_type": "markdown",
   "id": "b6f07a58",
   "metadata": {},
   "source": [
    "# d. Flexible clients"
   ]
  },
  {
   "cell_type": "code",
   "execution_count": 62,
   "id": "2c682f00",
   "metadata": {},
   "outputs": [
    {
     "name": "stdout",
     "output_type": "stream",
     "text": [
      " no.of Flexible clients throughout history : 97\n"
     ]
    }
   ],
   "source": [
    "total_flexible_clients_list = []  # len = 173, tolerance goes up, flexibility goes down\n",
    "tolerance = 25\n",
    "for k,v in client_slot_jump_value_dict.items():\n",
    "    if v > tolerance:\n",
    "        total_flexible_clients_list.append(k)\n",
    "\n",
    "print(\" no.of Flexible clients throughout history :\",len(total_flexible_clients_list))"
   ]
  },
  {
   "cell_type": "code",
   "execution_count": 63,
   "id": "9614526f",
   "metadata": {},
   "outputs": [
    {
     "name": "stdout",
     "output_type": "stream",
     "text": [
      "[953, 1044, 1049, 1052, 1053, 1057, 983, 1073, 1076, 1081, 1090, 989, 1094, 1101, 1102, 971, 1107, 1109, 1120, 1121, 1124, 768, 860, 944, 1160, 1164, 863, 772, 774, 876, 986, 868, 1225, 1229, 1233, 993, 1008, 786, 789, 793, 1246, 1328, 794, 1358, 1265, 1383, 798, 922, 1391, 854, 803, 804, 1333, 1334, 805, 806, 1272, 1371, 1378, 919, 811, 813, 1376, 879, 880, 1248, 886, 1418, 1495, 1529, 851, 881, 823, 824, 1405, 1629, 1493, 1633, 1648, 1115, 1503, 1657, 833, 1685, 1707, 1731, 1738, 1565, 1581, 1704, 1714, 1414, 1589, 1808, 1836, 869, 1574]\n"
     ]
    }
   ],
   "source": [
    "print(total_flexible_clients_list)"
   ]
  },
  {
   "cell_type": "code",
   "execution_count": 64,
   "id": "24d469d2",
   "metadata": {},
   "outputs": [
    {
     "name": "stdout",
     "output_type": "stream",
     "text": [
      "97\n"
     ]
    }
   ],
   "source": [
    "#lets see the preferred slots of all the 95 flexible clients\n",
    "all_flexible_c_preferred_slot_dict = {}  # create an empty dictionary to later append necessary keys and values\n",
    "for afc in total_flexible_clients_list:\n",
    "    for c,slot in clients_preferred_slot_dict.items():\n",
    "        if afc == c:  # if a client is flexible\n",
    "            all_flexible_c_preferred_slot_dict[afc] = slot\n",
    "        \n",
    "print(len(all_flexible_c_preferred_slot_dict))"
   ]
  },
  {
   "cell_type": "code",
   "execution_count": 65,
   "id": "072a4ded",
   "metadata": {},
   "outputs": [
    {
     "name": "stdout",
     "output_type": "stream",
     "text": [
      "{953: 'noon slot', 1044: 'noon slot', 1049: 'noon slot', 1052: 'evening slot', 1053: 'evening slot', 1057: 'noon slot', 983: 'noon slot', 1073: 'noon slot', 1076: 'noon slot', 1081: 'noon slot', 1090: 'evening slot', 989: 'evening slot', 1094: 'noon slot', 1101: 'noon slot', 1102: 'noon slot', 971: 'evening slot', 1107: 'evening slot', 1109: 'noon slot', 1120: 'noon slot', 1121: 'evening slot', 1124: 'noon slot', 768: 'noon slot', 860: 'noon slot', 944: 'evening slot', 1160: 'evening slot', 1164: 'noon slot', 863: 'noon slot', 772: 'evening slot', 774: 'evening slot', 876: 'morning slot', 986: 'evening slot', 868: 'noon slot', 1225: 'noon slot', 1229: 'noon slot', 1233: 'noon slot', 993: 'evening slot', 1008: 'noon slot', 786: 'noon slot', 789: 'noon slot', 793: 'noon slot', 1246: 'evening slot', 1328: 'noon slot', 794: 'evening slot', 1358: 'noon slot', 1265: 'noon slot', 1383: 'noon slot', 798: 'noon slot', 922: 'evening slot', 1391: 'evening slot', 854: 'noon slot', 803: 'evening slot', 804: 'noon slot', 1333: 'noon slot', 1334: 'evening slot', 805: 'evening slot', 806: 'evening slot', 1272: 'evening slot', 1371: 'evening slot', 1378: 'evening slot', 919: 'noon slot', 811: 'evening slot', 813: 'noon slot', 1376: 'noon slot', 879: 'evening slot', 880: 'noon slot', 1248: 'noon slot', 886: 'evening slot', 1418: 'noon slot', 1495: 'noon slot', 1529: 'noon slot', 851: 'noon slot', 881: 'noon slot', 823: 'noon slot', 824: 'noon slot', 1405: 'noon slot', 1629: 'evening slot', 1493: 'noon slot', 1633: 'noon slot', 1648: 'evening slot', 1115: 'noon slot', 1503: 'evening slot', 1657: 'noon slot', 833: 'noon slot', 1685: 'noon slot', 1707: 'noon slot', 1731: 'noon slot', 1738: 'evening slot', 1565: 'evening slot', 1581: 'evening slot', 1704: 'noon slot', 1714: 'noon slot', 1414: 'noon slot', 1589: 'morning slot', 1808: 'evening slot', 1836: 'noon slot', 869: 'noon slot', 1574: 'noon slot'}\n"
     ]
    }
   ],
   "source": [
    "print(all_flexible_c_preferred_slot_dict)  # total 95 flexible clients and their preferred slot"
   ]
  },
  {
   "cell_type": "markdown",
   "id": "be79059f",
   "metadata": {},
   "source": [
    "## E. Extract Active flexible clients from all 95 flexible clients"
   ]
  },
  {
   "cell_type": "code",
   "execution_count": 66,
   "id": "ac4b1966",
   "metadata": {},
   "outputs": [],
   "source": [
    "active_flexible_clients_dict = {}\n",
    "for k,v in all_flexible_c_preferred_slot_dict.items(): # tracing a dict of all flexible clients with their preferred slot    \n",
    "    for i in range(len(df_invoice)): \n",
    "        if df_invoice[\"#Rno\"][i] == k and df_invoice[\"subscription.1\"][i] == \"Active\":\n",
    "            if k in total_flexible_clients_list:  # if the client is the one we are looking for\n",
    "                active_flexible_clients_dict[k] = v # extract noonevening active clients from the total 95 clients\n",
    "                break"
   ]
  },
  {
   "cell_type": "code",
   "execution_count": 67,
   "id": "95b34f68",
   "metadata": {},
   "outputs": [
    {
     "name": "stdout",
     "output_type": "stream",
     "text": [
      "38\n"
     ]
    }
   ],
   "source": [
    "print(len(active_flexible_clients_dict))  # total 36 active and flexible clients"
   ]
  },
  {
   "cell_type": "code",
   "execution_count": 68,
   "id": "7c58fdbb",
   "metadata": {},
   "outputs": [
    {
     "name": "stdout",
     "output_type": "stream",
     "text": [
      "37\n"
     ]
    }
   ],
   "source": [
    "active_flexible_noonEveningPreferring_clients_dict = {}\n",
    "for k,v in active_flexible_clients_dict.items():\n",
    "    if v == \"noon slot\" or v == \"evening slot\":\n",
    "        active_flexible_noonEveningPreferring_clients_dict[k] = v\n",
    "print(len(active_flexible_noonEveningPreferring_clients_dict))  # all active clients flexible clients perfer noon evening slots slots"
   ]
  },
  {
   "cell_type": "code",
   "execution_count": 69,
   "id": "e5d6acd6",
   "metadata": {},
   "outputs": [],
   "source": [
    "df_active_flexible_noonEveningPreferring_clients = pd.DataFrame(active_flexible_noonEveningPreferring_clients_dict.items(), columns= [\"#Rno\", \"preferred slot\"])"
   ]
  },
  {
   "cell_type": "code",
   "execution_count": 70,
   "id": "b65b1c28",
   "metadata": {},
   "outputs": [
    {
     "data": {
      "text/html": [
       "<div>\n",
       "<style scoped>\n",
       "    .dataframe tbody tr th:only-of-type {\n",
       "        vertical-align: middle;\n",
       "    }\n",
       "\n",
       "    .dataframe tbody tr th {\n",
       "        vertical-align: top;\n",
       "    }\n",
       "\n",
       "    .dataframe thead th {\n",
       "        text-align: right;\n",
       "    }\n",
       "</style>\n",
       "<table border=\"1\" class=\"dataframe\">\n",
       "  <thead>\n",
       "    <tr style=\"text-align: right;\">\n",
       "      <th></th>\n",
       "      <th>#Rno</th>\n",
       "      <th>preferred slot</th>\n",
       "    </tr>\n",
       "  </thead>\n",
       "  <tbody>\n",
       "    <tr>\n",
       "      <th>0</th>\n",
       "      <td>1044</td>\n",
       "      <td>noon slot</td>\n",
       "    </tr>\n",
       "    <tr>\n",
       "      <th>1</th>\n",
       "      <td>1052</td>\n",
       "      <td>evening slot</td>\n",
       "    </tr>\n",
       "    <tr>\n",
       "      <th>2</th>\n",
       "      <td>1057</td>\n",
       "      <td>noon slot</td>\n",
       "    </tr>\n",
       "    <tr>\n",
       "      <th>3</th>\n",
       "      <td>1094</td>\n",
       "      <td>noon slot</td>\n",
       "    </tr>\n",
       "    <tr>\n",
       "      <th>4</th>\n",
       "      <td>1109</td>\n",
       "      <td>noon slot</td>\n",
       "    </tr>\n",
       "    <tr>\n",
       "      <th>5</th>\n",
       "      <td>1124</td>\n",
       "      <td>noon slot</td>\n",
       "    </tr>\n",
       "    <tr>\n",
       "      <th>6</th>\n",
       "      <td>863</td>\n",
       "      <td>noon slot</td>\n",
       "    </tr>\n",
       "    <tr>\n",
       "      <th>7</th>\n",
       "      <td>868</td>\n",
       "      <td>noon slot</td>\n",
       "    </tr>\n",
       "    <tr>\n",
       "      <th>8</th>\n",
       "      <td>1328</td>\n",
       "      <td>noon slot</td>\n",
       "    </tr>\n",
       "    <tr>\n",
       "      <th>9</th>\n",
       "      <td>794</td>\n",
       "      <td>evening slot</td>\n",
       "    </tr>\n",
       "    <tr>\n",
       "      <th>10</th>\n",
       "      <td>1358</td>\n",
       "      <td>noon slot</td>\n",
       "    </tr>\n",
       "    <tr>\n",
       "      <th>11</th>\n",
       "      <td>1265</td>\n",
       "      <td>noon slot</td>\n",
       "    </tr>\n",
       "    <tr>\n",
       "      <th>12</th>\n",
       "      <td>1383</td>\n",
       "      <td>noon slot</td>\n",
       "    </tr>\n",
       "    <tr>\n",
       "      <th>13</th>\n",
       "      <td>1333</td>\n",
       "      <td>noon slot</td>\n",
       "    </tr>\n",
       "    <tr>\n",
       "      <th>14</th>\n",
       "      <td>1334</td>\n",
       "      <td>evening slot</td>\n",
       "    </tr>\n",
       "    <tr>\n",
       "      <th>15</th>\n",
       "      <td>1272</td>\n",
       "      <td>evening slot</td>\n",
       "    </tr>\n",
       "    <tr>\n",
       "      <th>16</th>\n",
       "      <td>1371</td>\n",
       "      <td>evening slot</td>\n",
       "    </tr>\n",
       "    <tr>\n",
       "      <th>17</th>\n",
       "      <td>1378</td>\n",
       "      <td>evening slot</td>\n",
       "    </tr>\n",
       "    <tr>\n",
       "      <th>18</th>\n",
       "      <td>1376</td>\n",
       "      <td>noon slot</td>\n",
       "    </tr>\n",
       "    <tr>\n",
       "      <th>19</th>\n",
       "      <td>1248</td>\n",
       "      <td>noon slot</td>\n",
       "    </tr>\n",
       "    <tr>\n",
       "      <th>20</th>\n",
       "      <td>1418</td>\n",
       "      <td>noon slot</td>\n",
       "    </tr>\n",
       "    <tr>\n",
       "      <th>21</th>\n",
       "      <td>1529</td>\n",
       "      <td>noon slot</td>\n",
       "    </tr>\n",
       "    <tr>\n",
       "      <th>22</th>\n",
       "      <td>1405</td>\n",
       "      <td>noon slot</td>\n",
       "    </tr>\n",
       "    <tr>\n",
       "      <th>23</th>\n",
       "      <td>1629</td>\n",
       "      <td>evening slot</td>\n",
       "    </tr>\n",
       "    <tr>\n",
       "      <th>24</th>\n",
       "      <td>1503</td>\n",
       "      <td>evening slot</td>\n",
       "    </tr>\n",
       "    <tr>\n",
       "      <th>25</th>\n",
       "      <td>1657</td>\n",
       "      <td>noon slot</td>\n",
       "    </tr>\n",
       "    <tr>\n",
       "      <th>26</th>\n",
       "      <td>1685</td>\n",
       "      <td>noon slot</td>\n",
       "    </tr>\n",
       "    <tr>\n",
       "      <th>27</th>\n",
       "      <td>1707</td>\n",
       "      <td>noon slot</td>\n",
       "    </tr>\n",
       "    <tr>\n",
       "      <th>28</th>\n",
       "      <td>1731</td>\n",
       "      <td>noon slot</td>\n",
       "    </tr>\n",
       "    <tr>\n",
       "      <th>29</th>\n",
       "      <td>1565</td>\n",
       "      <td>evening slot</td>\n",
       "    </tr>\n",
       "    <tr>\n",
       "      <th>30</th>\n",
       "      <td>1704</td>\n",
       "      <td>noon slot</td>\n",
       "    </tr>\n",
       "    <tr>\n",
       "      <th>31</th>\n",
       "      <td>1714</td>\n",
       "      <td>noon slot</td>\n",
       "    </tr>\n",
       "    <tr>\n",
       "      <th>32</th>\n",
       "      <td>1414</td>\n",
       "      <td>noon slot</td>\n",
       "    </tr>\n",
       "    <tr>\n",
       "      <th>33</th>\n",
       "      <td>1808</td>\n",
       "      <td>evening slot</td>\n",
       "    </tr>\n",
       "    <tr>\n",
       "      <th>34</th>\n",
       "      <td>1836</td>\n",
       "      <td>noon slot</td>\n",
       "    </tr>\n",
       "    <tr>\n",
       "      <th>35</th>\n",
       "      <td>869</td>\n",
       "      <td>noon slot</td>\n",
       "    </tr>\n",
       "    <tr>\n",
       "      <th>36</th>\n",
       "      <td>1574</td>\n",
       "      <td>noon slot</td>\n",
       "    </tr>\n",
       "  </tbody>\n",
       "</table>\n",
       "</div>"
      ],
      "text/plain": [
       "    #Rno preferred slot\n",
       "0   1044      noon slot\n",
       "1   1052   evening slot\n",
       "2   1057      noon slot\n",
       "3   1094      noon slot\n",
       "4   1109      noon slot\n",
       "5   1124      noon slot\n",
       "6    863      noon slot\n",
       "7    868      noon slot\n",
       "8   1328      noon slot\n",
       "9    794   evening slot\n",
       "10  1358      noon slot\n",
       "11  1265      noon slot\n",
       "12  1383      noon slot\n",
       "13  1333      noon slot\n",
       "14  1334   evening slot\n",
       "15  1272   evening slot\n",
       "16  1371   evening slot\n",
       "17  1378   evening slot\n",
       "18  1376      noon slot\n",
       "19  1248      noon slot\n",
       "20  1418      noon slot\n",
       "21  1529      noon slot\n",
       "22  1405      noon slot\n",
       "23  1629   evening slot\n",
       "24  1503   evening slot\n",
       "25  1657      noon slot\n",
       "26  1685      noon slot\n",
       "27  1707      noon slot\n",
       "28  1731      noon slot\n",
       "29  1565   evening slot\n",
       "30  1704      noon slot\n",
       "31  1714      noon slot\n",
       "32  1414      noon slot\n",
       "33  1808   evening slot\n",
       "34  1836      noon slot\n",
       "35   869      noon slot\n",
       "36  1574      noon slot"
      ]
     },
     "execution_count": 70,
     "metadata": {},
     "output_type": "execute_result"
    }
   ],
   "source": [
    "df_active_flexible_noonEveningPreferring_clients"
   ]
  },
  {
   "cell_type": "code",
   "execution_count": 71,
   "id": "e98a6c66",
   "metadata": {},
   "outputs": [],
   "source": [
    "# df_active_flexible_noonEveningPreferring_clients.to_excel(\"active flexible clients.xlsx\", index = False)"
   ]
  },
  {
   "cell_type": "code",
   "execution_count": null,
   "id": "09b3d1bd",
   "metadata": {},
   "outputs": [],
   "source": []
  }
 ],
 "metadata": {
  "kernelspec": {
   "display_name": "Python 3",
   "language": "python",
   "name": "python3"
  },
  "language_info": {
   "codemirror_mode": {
    "name": "ipython",
    "version": 3
   },
   "file_extension": ".py",
   "mimetype": "text/x-python",
   "name": "python",
   "nbconvert_exporter": "python",
   "pygments_lexer": "ipython3",
   "version": "3.11.5"
  }
 },
 "nbformat": 4,
 "nbformat_minor": 5
}
